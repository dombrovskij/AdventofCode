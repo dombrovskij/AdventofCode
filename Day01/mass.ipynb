{
 "cells": [
  {
   "cell_type": "code",
   "execution_count": 13,
   "metadata": {},
   "outputs": [],
   "source": [
    "import numpy as np"
   ]
  },
  {
   "cell_type": "code",
   "execution_count": 2,
   "metadata": {},
   "outputs": [],
   "source": [
    "with open('input.txt') as f:\n",
    "    content = f.readlines()\n",
    "module_masses = [float(x.strip()) for x in content] "
   ]
  },
  {
   "cell_type": "code",
   "execution_count": 7,
   "metadata": {},
   "outputs": [],
   "source": [
    "def mass_to_fuel(mass):\n",
    "    \n",
    "    return int((mass/3.)) - 2"
   ]
  },
  {
   "cell_type": "code",
   "execution_count": 11,
   "metadata": {},
   "outputs": [],
   "source": [
    "module_fuel = list(map(mass_to_fuel, module_masses))"
   ]
  },
  {
   "cell_type": "code",
   "execution_count": 14,
   "metadata": {},
   "outputs": [
    {
     "name": "stdout",
     "output_type": "stream",
     "text": [
      "Total fuel required for modules (answer part 1): 3381405\n"
     ]
    }
   ],
   "source": [
    "print('Total fuel required for modules (answer part 1): {}'.format(np.sum(module_fuel)))"
   ]
  },
  {
   "cell_type": "code",
   "execution_count": 37,
   "metadata": {},
   "outputs": [],
   "source": [
    "def fuel_req(fuel):\n",
    "    \n",
    "    #Calculates additional fuel needed for input fuel\n",
    "    \n",
    "    mtfs = []\n",
    "\n",
    "    while fuel > 0:\n",
    "\n",
    "        new_fuel = mass_to_fuel(fuel)\n",
    "        mtfs.append(new_fuel)\n",
    "        fuel = new_fuel\n",
    "    \n",
    "    return np.sum(mtfs)"
   ]
  },
  {
   "cell_type": "code",
   "execution_count": 34,
   "metadata": {},
   "outputs": [],
   "source": [
    "additional_fuel = list(map(fuel_req, module_fuel))"
   ]
  },
  {
   "cell_type": "code",
   "execution_count": 39,
   "metadata": {},
   "outputs": [
    {
     "name": "stdout",
     "output_type": "stream",
     "text": [
      "Total fuel required for modules and fuel (answer part 2): 5069107\n"
     ]
    }
   ],
   "source": [
    "print('Total fuel required for modules and fuel (answer part 2): {}'.format(np.sum(module_fuel) + np.sum(additional_fuel)))"
   ]
  }
 ],
 "metadata": {
  "kernelspec": {
   "display_name": "Python 3",
   "language": "python",
   "name": "python3"
  },
  "language_info": {
   "codemirror_mode": {
    "name": "ipython",
    "version": 3
   },
   "file_extension": ".py",
   "mimetype": "text/x-python",
   "name": "python",
   "nbconvert_exporter": "python",
   "pygments_lexer": "ipython3",
   "version": "3.7.3"
  }
 },
 "nbformat": 4,
 "nbformat_minor": 4
}
